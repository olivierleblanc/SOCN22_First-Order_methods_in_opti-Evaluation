{
 "cells": [
  {
   "cell_type": "code",
   "execution_count": 11,
   "metadata": {},
   "outputs": [],
   "source": [
    "import numpy as np\n",
    "from matplotlib import pyplot as plt\n",
    "\n",
    "m = 100\n",
    "n = 120\n",
    "a = np.arange(0,m)+1\n",
    "b = np.arange(0,n)+0.5\n",
    "A = np.sin(10 * np.outer(a,b)**3)\n",
    "xi = np.sin(31 * np.arange(1,n+1)**3)\n",
    "b = A @ xi\n",
    "lambda1 = 2\n",
    "lambda2 = 0.5"
   ]
  },
  {
   "cell_type": "code",
   "execution_count": 12,
   "metadata": {},
   "outputs": [],
   "source": [
    "niter = 100\n",
    "soft_thresh = lambda x, t: np.sign(x) * np.maximum(np.abs(x) - t, 0)\n",
    "objfun = lambda x: np.linalg.norm(A @ x - b,2)**2 + lambda1/2*np.linalg.norm(x)**2 + lambda2*np.linalg.norm(x,1)\n",
    "\n",
    "Fopt = objfun(xi)\n",
    "L = np.linalg.norm(A,2)**2"
   ]
  },
  {
   "cell_type": "markdown",
   "metadata": {},
   "source": [
    "Proximal gradient"
   ]
  },
  {
   "cell_type": "code",
   "execution_count": 13,
   "metadata": {},
   "outputs": [
    {
     "data": {
      "image/png": "[encoded data removed]",
      "text/plain": [
       "<Figure size 432x288 with 1 Axes>"
      ]
     },
     "metadata": {
      "needs_background": "light"
     },
     "output_type": "display_data"
    }
   ],
   "source": [
    "k = 1\n",
    "x1 = np.zeros(n)\n",
    "obj = np.zeros(niter)\n",
    "\n",
    "while k<niter+1:\n",
    "    x1 = soft_thresh( x1-(A.T@(A@x1)+lambda1*x1-A.T@b)/(L+lambda1) , lambda2/(L+lambda1) )\n",
    "    obj[k-1] = objfun(x1)\n",
    "    k +=1\n",
    "\n",
    "plt.figure()\n",
    "plt.plot(obj)\n",
    "plt.show()"
   ]
  },
  {
   "cell_type": "markdown",
   "metadata": {},
   "source": [
    "FISTA"
   ]
  },
  {
   "cell_type": "code",
   "execution_count": 14,
   "metadata": {},
   "outputs": [],
   "source": [
    "k = 1\n",
    "t = 1\n",
    "x2 = np.zeros(n)\n",
    "y = np.zeros(n)\n",
    "obj2 = np.zeros(niter)\n",
    "\n",
    "while k<niter+1:\n",
    "    told = t\n",
    "    xold = np.copy(x2) \n",
    "\n",
    "    x2 = soft_thresh( y-(A.T@(A@y)+lambda1*y-A.T@b)/(L+lambda1) , lambda2/(L+lambda1) )\n",
    "    t = (1+np.sqrt(1+4*told**2))/2\n",
    "    y = x2 + (told-1)/t*(x2-xold)\n",
    "\n",
    "    obj2[k-1] = objfun(x2)\n",
    "    k +=1"
   ]
  },
  {
   "cell_type": "markdown",
   "metadata": {},
   "source": [
    "V-FISTA"
   ]
  },
  {
   "cell_type": "code",
   "execution_count": 15,
   "metadata": {},
   "outputs": [],
   "source": [
    "k = 1\n",
    "sigma = 1\n",
    "x3 = np.zeros(n)\n",
    "y = np.zeros(n)\n",
    "obj3 = np.zeros(niter)\n",
    "kappa = L/sigma \n",
    "sqrtkappa = np.sqrt(kappa)\n",
    "\n",
    "while k<niter+1:\n",
    "    told = t\n",
    "    xold = np.copy(x3) \n",
    "\n",
    "    x3 = soft_thresh( y-(A.T@(A@y)+lambda1*y-A.T@b)/(L+lambda1) , lambda2/(L+lambda1) )\n",
    "    y = x3 + (sqrtkappa-1)/(sqrtkappa+1)*(x3-xold)\n",
    "\n",
    "    obj3[k-1] = objfun(x3)\n",
    "    k +=1"
   ]
  },
  {
   "cell_type": "markdown",
   "metadata": {},
   "source": [
    "V-FISTA2"
   ]
  },
  {
   "cell_type": "code",
   "execution_count": 20,
   "metadata": {},
   "outputs": [
    {
     "name": "stdout",
     "output_type": "stream",
     "text": [
      "[-0.40403765  0.18475212  0.97264407 -0.99645397]\n",
      "\n",
      "[-0.43969331  0.01974521  1.42280231 -0.87819581]\n",
      "[-0.4319773   0.02881602  1.43373682 -0.9066518 ]\n",
      "[-0.43207117  0.02954933  1.43438138 -0.9058778 ]\n",
      "[-0.43210892  0.02959727  1.43437048 -0.9058291 ]\n"
     ]
    },
    {
     "data": {
      "image/png": "[encoded data removed]",
      "text/plain": [
       "<Figure size 432x288 with 1 Axes>"
      ]
     },
     "metadata": {
      "needs_background": "light"
     },
     "output_type": "display_data"
    }
   ],
   "source": [
    "k = 1\n",
    "sigma2 = lambda1\n",
    "x4 = np.zeros(n)\n",
    "y = np.zeros(n)\n",
    "obj4 = np.zeros(niter)\n",
    "kappa2 = L/sigma2 \n",
    "sqrtkappa2 = np.sqrt(kappa2)\n",
    "\n",
    "while k<niter+1:\n",
    "    told = t\n",
    "    xold = np.copy(x4) \n",
    "\n",
    "    x4 = soft_thresh( y-(A.T@(A@y)+lambda1*y-A.T@b)/(L+lambda1) , lambda2/(L+lambda1) )\n",
    "    y = x4 + (sqrtkappa2-1)/(sqrtkappa2+1)*(x4-xold)\n",
    "\n",
    "    obj4[k-1] = objfun(x4)\n",
    "    k +=1\n",
    "\n",
    "plt.figure()\n",
    "plt.semilogy(obj-Fopt, 'b', label='Proximal Gradient')\n",
    "plt.semilogy(obj2-Fopt, 'r', label='FISTA')\n",
    "plt.semilogy(obj3-Fopt, 'g', label='V-FISTA')\n",
    "plt.semilogy(obj4-Fopt, 'm', label='V-FISTA2')\n",
    "# plt.plot(obj-Fopt, 'b', label='Proximal Gradient')\n",
    "# plt.plot(obj2-Fopt, 'r', label='FISTA')\n",
    "# plt.plot(obj3-Fopt, 'g', label='V-FISTA')\n",
    "# plt.plot(obj4-Fopt, 'm', label='V-FISTA2')\n",
    "plt.legend()\n",
    "\n",
    "plt.savefig('part2_ex0.pdf')\n",
    "# plt.show()\n",
    "\n",
    "print(xi[:4])\n",
    "print()\n",
    "print(x1[:4])\n",
    "print(x2[:4])\n",
    "print(x3[:4])\n",
    "print(x4[:4])"
   ]
  }
 ],
 "metadata": {
  "interpreter": {
   "hash": "46df200377d403be22c796785365123e6a374b5da08e8292e6b2afda659c5a28"
  },
  "kernelspec": {
   "display_name": "Python 3.8.8 ('base')",
   "language": "python",
   "name": "python3"
  },
  "language_info": {
   "codemirror_mode": {
    "name": "ipython",
    "version": 3
   },
   "file_extension": ".py",
   "mimetype": "text/x-python",
   "name": "python",
   "nbconvert_exporter": "python",
   "pygments_lexer": "ipython3",
   "version": "3.8.8"
  },
  "orig_nbformat": 4
 },
 "nbformat": 4,
 "nbformat_minor": 2
}
