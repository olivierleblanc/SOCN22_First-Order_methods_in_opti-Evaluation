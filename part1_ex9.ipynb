{
 "cells": [
  {
   "cell_type": "code",
   "execution_count": 8,
   "metadata": {},
   "outputs": [
    {
     "name": "stdout",
     "output_type": "stream",
     "text": [
      "[[3.12510441 0.95109274]\n",
      " [0.95109274 4.07619715]]\n"
     ]
    }
   ],
   "source": [
    "import numpy as np\n",
    "\n",
    "M = np.array([[3,1],[1,4]])\n",
    "\n",
    "U, S, _ = np.linalg.svd(M)\n",
    "\n",
    "vals = np.zeros(2)\n",
    "for i in range(2):\n",
    "    vals[i] = np.real(np.roots(np.array([1, -S[i], 0, -1]))[0])\n",
    "\n",
    "res = U@np.diag(vals)@U.T\n",
    "\n",
    "print(res)"
   ]
  }
 ],
 "metadata": {
  "interpreter": {
   "hash": "46df200377d403be22c796785365123e6a374b5da08e8292e6b2afda659c5a28"
  },
  "kernelspec": {
   "display_name": "Python 3.8.8 ('base')",
   "language": "python",
   "name": "python3"
  },
  "language_info": {
   "codemirror_mode": {
    "name": "ipython",
    "version": 3
   },
   "file_extension": ".py",
   "mimetype": "text/x-python",
   "name": "python",
   "nbconvert_exporter": "python",
   "pygments_lexer": "ipython3",
   "version": "3.8.8"
  },
  "orig_nbformat": 4
 },
 "nbformat": 4,
 "nbformat_minor": 2
}
