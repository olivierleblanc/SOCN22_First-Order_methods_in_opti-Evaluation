{
 "cells": [
  {
   "cell_type": "code",
   "execution_count": 1,
   "metadata": {},
   "outputs": [
    {
     "name": "stdout",
     "output_type": "stream",
     "text": [
      "[1.49999994 1.         2.         1.         1.49999994 1.        ]\n"
     ]
    }
   ],
   "source": [
    "import numpy as np\n",
    "\n",
    "def f(x):\n",
    "    xsorted = np.sort(x)\n",
    "    return 2*xsorted[0] + xsorted[1]\n",
    "\n",
    "def projbox(x, l, u):\n",
    "    return np.minimum(np.maximum(x,l), u)\n",
    "\n",
    "def projH_inter_box(x, a, b, l, u):\n",
    "    mu = 1\n",
    "    factor = 1\n",
    "    val = 10\n",
    "\n",
    "    while (np.abs(val)>1e-8):\n",
    "        val = a@projbox(x-mu*a, l, u) - b\n",
    "        mu *= (1+factor)**(np.sign(val))\n",
    "        factor /= 1.2\n",
    "\n",
    "    return projbox(x-mu*a, l, u)\n",
    "\n",
    "def proxf(x):\n",
    "    return x - projH_inter_box(x, np.ones(len(x)), 3, np.zeros(len(x)), 2*np.ones(len(x)))  \n",
    "\n",
    "print(proxf(np.array([2,1,4,1,2,1])))"
   ]
  },
  {
   "cell_type": "code",
   "execution_count": 6,
   "metadata": {},
   "outputs": [
    {
     "name": "stdout",
     "output_type": "stream",
     "text": [
      "[1.5 1.  2.  1.  1.5 1. ]\n"
     ]
    }
   ],
   "source": [
    "def error_fct(a,b,l,u,x,mu):\n",
    "    y = projbox(x-mu*a,l,u)\n",
    "    error = a@y-b\n",
    "    return error\n",
    "\n",
    "def projbox(x, l, u):\n",
    "    return np.minimum(np.maximum(x,l), u)\n",
    "\n",
    "#projection on the intersection of an hyperplane and a box\n",
    "def proj_H_inter_box(a,b,l,u,x):\n",
    "    #start with guesses for mu-levels\n",
    "    mu_low = -1\n",
    "    mu_high = 1\n",
    "\n",
    "    #check that the levels give respectively negative and positive values\n",
    "    #for the function error = a@y-1 with y = proj_box(l,u,x-mu*a)\n",
    "\n",
    "    #positive for low bound\n",
    "    j=0\n",
    "    j_max =100\n",
    "    error_l = -1\n",
    "    while (error_l<0) & (j<j_max) :\n",
    "        mu_low = mu_low*2 #more negative (always done in first iteration but not important)\n",
    "        error_l=error_fct(a,b,l,u,x,mu_low)\n",
    "        j=j+1\n",
    "\n",
    "    #negative for low bound\n",
    "    k=0\n",
    "    k_max =10\n",
    "    error_h = 1\n",
    "    while (error_h>0) & (k<k_max) :\n",
    "        mu_high = mu_high*2 #more negative (always done in first iteration but not important)\n",
    "        error_h=error_fct(a,b,l,u,x,mu_high)\n",
    "        k=k+1\n",
    "\n",
    "    #mu_low lead to positive value of the error,\n",
    "    i = 0\n",
    "    i_max = 100\n",
    "    tol = 1e-8\n",
    "    error = 2*tol\n",
    "    while (np.abs(error)>tol) & (i<i_max) :\n",
    "        mu_mid = (mu_low+mu_high)/2\n",
    "        error = error_fct(a,b,l,u,x,mu_mid)\n",
    "\n",
    "        if error>0:\n",
    "            mu_low = mu_mid\n",
    "        else:\n",
    "            mu_high = mu_mid\n",
    "\n",
    "        i=i+1\n",
    "\n",
    "    #Compute the solution with the good level\n",
    "    y= projbox(x-mu_mid*a,l,u)\n",
    "    return y\n",
    "\n",
    "def proxf(x):\n",
    "    return x - proj_H_inter_box(np.ones(len(x)),3,np.zeros(len(x)),2*np.ones(len(x)),x)\n",
    "\n",
    "x = np.array([2,1,4,1,2,1])\n",
    "\n",
    "print(proxf(x))"
   ]
  }
 ],
 "metadata": {
  "interpreter": {
   "hash": "46df200377d403be22c796785365123e6a374b5da08e8292e6b2afda659c5a28"
  },
  "kernelspec": {
   "display_name": "Python 3.8.8 ('base')",
   "language": "python",
   "name": "python3"
  },
  "language_info": {
   "codemirror_mode": {
    "name": "ipython",
    "version": 3
   },
   "file_extension": ".py",
   "mimetype": "text/x-python",
   "name": "python",
   "nbconvert_exporter": "python",
   "pygments_lexer": "ipython3",
   "version": "3.8.8"
  },
  "orig_nbformat": 4
 },
 "nbformat": 4,
 "nbformat_minor": 2
}
