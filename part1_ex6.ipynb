{
 "cells": [
  {
   "cell_type": "code",
   "execution_count": 1,
   "metadata": {},
   "outputs": [
    {
     "name": "stdout",
     "output_type": "stream",
     "text": [
      "[1.49999994 1.         2.         1.         1.49999994 1.        ]\n"
     ]
    }
   ],
   "source": [
    "import numpy as np\n",
    "\n",
    "def f(x):\n",
    "    xsorted = np.sort(x)\n",
    "    return 2*xsorted[0] + xsorted[1]\n",
    "\n",
    "def projbox(x, l, u):\n",
    "    return np.minimum(np.maximum(x,l), u)\n",
    "\n",
    "def projH_inter_box(x, a, b, l, u):\n",
    "    mu = 1\n",
    "    factor = 1\n",
    "    val = 10\n",
    "\n",
    "    while (np.abs(val)>1e-8):\n",
    "        val = a@projbox(x-mu*a, l, u) - b\n",
    "        mu *= (1+factor)**(np.sign(val))\n",
    "        factor /= 1.2\n",
    "\n",
    "    return projbox(x-mu*a, l, u)\n",
    "\n",
    "def proxf(x):\n",
    "    return x - projH_inter_box(x, np.ones(len(x)), 3, np.zeros(len(x)), 2*np.ones(len(x)))  \n",
    "\n",
    "print(proxf(np.array([2,1,4,1,2,1])))"
   ]
  }
 ],
 "metadata": {
  "interpreter": {
   "hash": "46df200377d403be22c796785365123e6a374b5da08e8292e6b2afda659c5a28"
  },
  "kernelspec": {
   "display_name": "Python 3.8.8 ('base')",
   "language": "python",
   "name": "python3"
  },
  "language_info": {
   "codemirror_mode": {
    "name": "ipython",
    "version": 3
   },
   "file_extension": ".py",
   "mimetype": "text/x-python",
   "name": "python",
   "nbconvert_exporter": "python",
   "pygments_lexer": "ipython3",
   "version": "3.8.8"
  },
  "orig_nbformat": 4
 },
 "nbformat": 4,
 "nbformat_minor": 2
}
