{
 "cells": [
  {
   "cell_type": "code",
   "execution_count": 5,
   "metadata": {},
   "outputs": [
    {
     "data": {
      "image/png": "[encoded data removed]",
      "text/plain": [
       "<Figure size 432x288 with 1 Axes>"
      ]
     },
     "metadata": {
      "needs_background": "light"
     },
     "output_type": "display_data"
    }
   ],
   "source": [
    "import numpy as np\n",
    "import matplotlib.pyplot as plt\n",
    "\n",
    "x = np.sin(10*np.arange(1,41)**3)\n",
    "y = np.sin(28*np.arange(1,41)**3)\n",
    "cl = (2*x<y+0.5)+1\n",
    "x = np.hstack((x,0.2))\n",
    "y = np.hstack((y,-0.2))\n",
    "cl = np.hstack((cl,2))\n",
    "A1=np.column_stack((x[cl==1], y[cl==1]))\n",
    "A2=np.column_stack((x[cl==2], y[cl==2]))\n",
    "\n",
    "plt.figure()\n",
    "plt.plot(A1[:,0], A1[:,1],'*')\n",
    "plt.plot(A2[:,0], A2[:,1],'d')\n",
    "plt.show()"
   ]
  },
  {
   "cell_type": "code",
   "execution_count": 19,
   "metadata": {},
   "outputs": [],
   "source": [
    "xs = np.concatenate((A1,A2))\n",
    "ys = np.concatenate((np.zeros(A1.shape[0]), np.ones(A2.shape[0])))\n",
    "\n",
    "niter = 40\n",
    "C = 1\n",
    "\n",
    "n, d = xs.shape\n",
    "\n",
    "# A1 = lambda w: np.column_stack( [w for _ in range(n1)] )\n",
    "\n",
    "def projbox(x, l, u):\n",
    "    return np.minimum(np.maximum(x,l), u)\n",
    "\n",
    "\n",
    "for i in range(n):\n",
    "    z = projbox( , -C/L, 0)"
   ]
  }
 ],
 "metadata": {
  "interpreter": {
   "hash": "46df200377d403be22c796785365123e6a374b5da08e8292e6b2afda659c5a28"
  },
  "kernelspec": {
   "display_name": "Python 3.8.8 ('base')",
   "language": "python",
   "name": "python3"
  },
  "language_info": {
   "codemirror_mode": {
    "name": "ipython",
    "version": 3
   },
   "file_extension": ".py",
   "mimetype": "text/x-python",
   "name": "python",
   "nbconvert_exporter": "python",
   "pygments_lexer": "ipython3",
   "version": "3.8.8"
  },
  "orig_nbformat": 4
 },
 "nbformat": 4,
 "nbformat_minor": 2
}
