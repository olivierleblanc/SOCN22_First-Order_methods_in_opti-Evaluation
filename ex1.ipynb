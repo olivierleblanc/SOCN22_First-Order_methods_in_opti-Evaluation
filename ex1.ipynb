{
 "cells": [
  {
   "cell_type": "code",
   "execution_count": 14,
   "metadata": {},
   "outputs": [],
   "source": [
    "import numpy as np\n",
    "from matplotlib import pyplot as plt\n",
    "\n",
    "m = 100\n",
    "n = 120\n",
    "a = np.arange(0,m)+1\n",
    "b = np.arange(0,n)+0.5\n",
    "A = np.sin(10 * np.outer(a,b)**3)\n",
    "xi = np.sin(31 * np.arange(1,n+1)**3)\n",
    "b = A @ xi\n",
    "lambda1 = 2\n",
    "lambda2 = 0.5"
   ]
  },
  {
   "cell_type": "markdown",
   "metadata": {},
   "source": [
    "Proximal subgradient"
   ]
  },
  {
   "cell_type": "code",
   "execution_count": 15,
   "metadata": {},
   "outputs": [],
   "source": [
    "k = 1\n",
    "x = np.zeros(n)\n",
    "obj = np.zeros(100)\n",
    "\n",
    "objfun = lambda x: np.linalg.norm(A @ x - b,1) + 1/2*np.linalg.norm(x)**2\n",
    "\n",
    "while k<100+1:\n",
    "    x = (x-1/np.sqrt(k)*A.T@np.sign(A@x-b) )/(1/np.sqrt(k) + 1)\n",
    "    obj[k-1] = objfun(x)\n",
    "    k +=1\n",
    "\n",
    "# plt.figure()\n",
    "# plt.plot(xi, 'b')\n",
    "# plt.plot(x, 'r')\n",
    "# plt.show()"
   ]
  },
  {
   "cell_type": "markdown",
   "metadata": {},
   "source": [
    "FDPG"
   ]
  },
  {
   "cell_type": "code",
   "execution_count": 16,
   "metadata": {},
   "outputs": [
    {
     "data": {
      "image/png": "[encoded data removed]",
      "text/plain": [
       "<Figure size 432x288 with 1 Axes>"
      ]
     },
     "metadata": {
      "needs_background": "light"
     },
     "output_type": "display_data"
    }
   ],
   "source": [
    "k=1\n",
    "t=1\n",
    "L = np.linalg.norm(A, 2)**2\n",
    "obj2 = np.zeros(100)\n",
    "\n",
    "soft_thresh = lambda x, t: np.sign(x) * np.maximum(np.abs(x) - t, 0)\n",
    "\n",
    "u = np.zeros(n)\n",
    "x = np.zeros(n)\n",
    "ynew = np.zeros(m)\n",
    "w = np.zeros(m)\n",
    "\n",
    "while k<100+1:\n",
    "    y = np.copy(ynew)\n",
    "\n",
    "    u = A.T@w\n",
    "    Au = A@u\n",
    "    ynew = w-1/L*Au + 1/L* soft_thresh(Au -L*w - b , L) + b/L\n",
    "    tnew = (1+np.sqrt(1+4*t**2))/2\n",
    "    w = ynew + (t-1)/tnew*(ynew-y)\n",
    "\n",
    "    t = tnew\n",
    "    y = np.copy(ynew)\n",
    "\n",
    "    obj2[k-1] = objfun(u)\n",
    "\n",
    "    k+=1\n",
    "\n",
    "plt.figure()\n",
    "plt.semilogy(obj, 'b', label='Proximal subgradient')\n",
    "plt.semilogy(obj2, 'r', label='FDPG')\n",
    "plt.show()"
   ]
  }
 ],
 "metadata": {
  "interpreter": {
   "hash": "46df200377d403be22c796785365123e6a374b5da08e8292e6b2afda659c5a28"
  },
  "kernelspec": {
   "display_name": "Python 3.8.8 ('base')",
   "language": "python",
   "name": "python3"
  },
  "language_info": {
   "codemirror_mode": {
    "name": "ipython",
    "version": 3
   },
   "file_extension": ".py",
   "mimetype": "text/x-python",
   "name": "python",
   "nbconvert_exporter": "python",
   "pygments_lexer": "ipython3",
   "version": "3.8.8"
  },
  "orig_nbformat": 4
 },
 "nbformat": 4,
 "nbformat_minor": 2
}
